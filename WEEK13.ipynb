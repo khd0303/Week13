{
  "nbformat": 4,
  "nbformat_minor": 0,
  "metadata": {
    "colab": {
      "provenance": [],
      "authorship_tag": "ABX9TyNDbokLbusEYgotiTdgzsrr",
      "include_colab_link": true
    },
    "kernelspec": {
      "name": "python3",
      "display_name": "Python 3"
    },
    "language_info": {
      "name": "python"
    }
  },
  "cells": [
    {
      "cell_type": "markdown",
      "metadata": {
        "id": "view-in-github",
        "colab_type": "text"
      },
      "source": [
        "<a href=\"https://colab.research.google.com/github/khd0303/Week13/blob/main/WEEK13.ipynb\" target=\"_parent\"><img src=\"https://colab.research.google.com/assets/colab-badge.svg\" alt=\"Open In Colab\"/></a>"
      ]
    },
    {
      "cell_type": "code",
      "source": [
        "import numpy as np\n"
      ],
      "metadata": {
        "id": "35DJYBuWGSNC"
      },
      "execution_count": null,
      "outputs": []
    },
    {
      "cell_type": "code",
      "execution_count": null,
      "metadata": {
        "colab": {
          "base_uri": "https://localhost:8080/"
        },
        "id": "DSbvyLUMGJI7",
        "outputId": "1a90df35-60fa-49e4-dfdc-eb980210cf09"
      },
      "outputs": [
        {
          "output_type": "stream",
          "name": "stdout",
          "text": [
            "c.shape= (5,)\n",
            "c.ndim= 1\n",
            "c.dtype= int64\n",
            "c.size= 5\n",
            "c.itemsize= 8\n"
          ]
        }
      ],
      "source": [
        "#lab11-1\n",
        "#1\n",
        "a = np.array([0,1,2,3,4,5,6,7,8,9])\n",
        "a\n",
        "#2\n",
        "\n",
        "b = np.array(range(0,10))\n",
        "b\n",
        "\n",
        "#3\n",
        "\n",
        "c = np.array(range(0,10,2))\n",
        "c\n",
        "\n",
        "#4\n",
        "\n",
        "print('c.shape=',c.shape)\n",
        "print('c.ndim=',c.ndim)\n",
        "print('c.dtype=',c.dtype)\n",
        "print('c.size=',c.size)\n",
        "print('c.itemsize=',c.itemsize)"
      ]
    },
    {
      "cell_type": "code",
      "source": [
        "#lab11-2\n",
        "\n",
        "#1\n",
        "a = np.array([23,45,67,7,2,30,34,82])\n",
        "print('a = array',a)\n",
        "\n",
        "print('최댓값',a.max())\n",
        "print('최솟값',a.min())\n",
        "print('평균',a.mean())\n",
        "\n",
        "\n",
        "#2\n",
        "\n",
        "b = np.random.randint(0,99,size = 10)\n",
        "\n",
        "print('b =' ,b)\n",
        "print('최댓값',b.max())\n",
        "print('최솟값',b.min())\n",
        "print('평균',b.mean())\n",
        "\n",
        "#3\n",
        "\n",
        "c = np.append(a,b)\n",
        "\n",
        "print('c : ',c)"
      ],
      "metadata": {
        "colab": {
          "base_uri": "https://localhost:8080/"
        },
        "id": "RN_y0NafIQL8",
        "outputId": "6a9300e6-8404-403a-9c1c-182fbdb43a08"
      },
      "execution_count": null,
      "outputs": [
        {
          "output_type": "stream",
          "name": "stdout",
          "text": [
            "a = array [23 45 67  7  2 30 34 82]\n",
            "최댓값 82\n",
            "최솟값 2\n",
            "평균 36.25\n",
            "b = [82 55 13 40 13 26 69 62 87 19]\n",
            "최댓값 87\n",
            "최솟값 13\n",
            "평균 46.6\n",
            "c :  [23 45 67  7  2 30 34 82 82 55 13 40 13 26 69 62 87 19]\n"
          ]
        }
      ]
    },
    {
      "cell_type": "code",
      "source": [
        "#lab11-3\n",
        "#1\n",
        "\n",
        "a = np.array([[1,2,3],[4,5,6],[7,8,9]])\n",
        "print('a :',a,sep ='')\n",
        "b = np.array([[2,2,2],[2,2,2],[2,2,2]])\n",
        "print('b :',b,sep ='')\n",
        "\n",
        "#2\n",
        "\n",
        "print('a+b:',a+b,sep ='')\n",
        "print('a-b:',a-b,sep ='')\n",
        "print('a*b:',a*b,sep ='')\n",
        "print('a/b:',a/b,sep ='')\n",
        "print('a@b:',a@b,sep ='')\n",
        "print('a**2:',a**2,sep ='')"
      ],
      "metadata": {
        "colab": {
          "base_uri": "https://localhost:8080/"
        },
        "id": "mD0MUdZcLWP0",
        "outputId": "d358ccc7-7187-453f-9061-60f1a01829ba"
      },
      "execution_count": null,
      "outputs": [
        {
          "output_type": "stream",
          "name": "stdout",
          "text": [
            "a :[[1 2 3]\n",
            " [4 5 6]\n",
            " [7 8 9]]\n",
            "b :[[2 2 2]\n",
            " [2 2 2]\n",
            " [2 2 2]]\n",
            "a+b:[[ 3  4  5]\n",
            " [ 6  7  8]\n",
            " [ 9 10 11]]\n",
            "a-b:[[-1  0  1]\n",
            " [ 2  3  4]\n",
            " [ 5  6  7]]\n",
            "a*b:[[ 2  4  6]\n",
            " [ 8 10 12]\n",
            " [14 16 18]]\n",
            "a/b:[[0.5 1.  1.5]\n",
            " [2.  2.5 3. ]\n",
            " [3.5 4.  4.5]]\n",
            "a@b:[[12 12 12]\n",
            " [30 30 30]\n",
            " [48 48 48]]\n",
            "a**2:[[ 1  4  9]\n",
            " [16 25 36]\n",
            " [49 64 81]]\n"
          ]
        }
      ]
    },
    {
      "cell_type": "code",
      "source": [
        "#lab 11-4\n",
        "#1\n",
        "\n",
        "a1 = np.full((3,3),2)\n",
        "a1 = repr(a1)\n",
        "print('a1=',a1,sep = '')\n",
        "\n",
        "#2\n",
        "\n",
        "a2 = np.arange(1,13)\n",
        "\n",
        "print('a2=',a2,sep = '')\n",
        "\n",
        "#3\n",
        "\n",
        "a3 = np.arange(3,50,3)\n",
        "print('a3=',a3,sep = '')\n",
        "\n",
        "#4\n",
        "\n",
        "a4 = np.linspace(0,20,5)\n",
        "\n",
        "print('a4=',a4)\n"
      ],
      "metadata": {
        "colab": {
          "base_uri": "https://localhost:8080/"
        },
        "id": "vMD7YSkKM9xE",
        "outputId": "a9b616fe-1366-4ba7-8e6c-cd22802ba246"
      },
      "execution_count": null,
      "outputs": [
        {
          "output_type": "stream",
          "name": "stdout",
          "text": [
            "a1=array([[2, 2, 2],\n",
            "       [2, 2, 2],\n",
            "       [2, 2, 2]])\n",
            "a2=[ 1  2  3  4  5  6  7  8  9 10 11 12]\n",
            "a3=[ 3  6  9 12 15 18 21 24 27 30 33 36 39 42 45 48]\n",
            "a4= [ 0.  5. 10. 15. 20.]\n"
          ]
        }
      ]
    },
    {
      "cell_type": "code",
      "source": [
        "#lab 11-5\n",
        "#1\n",
        "a1 = np.arange(1,13)\n",
        "\n",
        "a1 = a1.reshape(2,6)\n",
        "print('a1:',a1)\n",
        "\n",
        "#2\n",
        "a2 = np.arange(1,31).reshape(3,10)\n",
        "print('a2:',a2)\n",
        "\n",
        "#3\n",
        "\n",
        "a3 = a2.reshape(6,5)\n",
        "print('a3:',a3)\n",
        "\n",
        "#4\n",
        "\n",
        "a4 = np.transpose(a3)\n",
        "\n",
        "print('a4:',a4)\n",
        "\n",
        "\n"
      ],
      "metadata": {
        "colab": {
          "base_uri": "https://localhost:8080/"
        },
        "id": "e0R58XZsWiD9",
        "outputId": "c712442b-46de-4397-9480-64e86f66cccf"
      },
      "execution_count": null,
      "outputs": [
        {
          "output_type": "stream",
          "name": "stdout",
          "text": [
            "a1: [[ 1  2  3  4  5  6]\n",
            " [ 7  8  9 10 11 12]]\n",
            "a2: [[ 1  2  3  4  5  6  7  8  9 10]\n",
            " [11 12 13 14 15 16 17 18 19 20]\n",
            " [21 22 23 24 25 26 27 28 29 30]]\n",
            "a3: [[ 1  2  3  4  5]\n",
            " [ 6  7  8  9 10]\n",
            " [11 12 13 14 15]\n",
            " [16 17 18 19 20]\n",
            " [21 22 23 24 25]\n",
            " [26 27 28 29 30]]\n",
            "a4: [[ 1  6 11 16 21 26]\n",
            " [ 2  7 12 17 22 27]\n",
            " [ 3  8 13 18 23 28]\n",
            " [ 4  9 14 19 24 29]\n",
            " [ 5 10 15 20 25 30]]\n"
          ]
        }
      ]
    },
    {
      "cell_type": "code",
      "source": [
        "#lab 11-6\n",
        "#1\n",
        "a = np.random.randint(1,100,size = 15).reshape(3,5)\n",
        "\n",
        "print('a:',a)\n",
        "\n",
        "#2\n",
        "\n",
        "print('a의 열방향 최솟값 :',a.min(axis=0))\n",
        "print('a의 열방향 최댓값 :',a.max(axis=0))\n",
        "print('a의 열방향 평균 :',a.sum(axis=0)/5)\n",
        "\n",
        "#3\n",
        "\n",
        "print('a의 행방향 최솟값 :',a.min(axis=1))\n",
        "print('a의 행방향 최댓값 :',a.max(axis=1))\n",
        "print('a의 행방향 평균 :',a.sum(axis=1)/5)\n"
      ],
      "metadata": {
        "colab": {
          "base_uri": "https://localhost:8080/"
        },
        "id": "TJvewmVibhsF",
        "outputId": "a89561a7-cf70-4de8-86f4-6016f30d5170"
      },
      "execution_count": null,
      "outputs": [
        {
          "output_type": "stream",
          "name": "stdout",
          "text": [
            "a: [[58 20  5 86 39]\n",
            " [25 23 60 30 87]\n",
            " [10 93 38 93 26]]\n",
            "a의 열방향 최솟값 : [10 20  5 30 26]\n",
            "a의 열방향 최댓값 : [58 93 60 93 87]\n",
            "a의 열방향 평균 : [18.6 27.2 20.6 41.8 30.4]\n",
            "a의 행방향 최솟값 : [ 5 23 10]\n",
            "a의 행방향 최댓값 : [86 87 93]\n",
            "a의 행방향 평균 : [41.6 45.  52. ]\n"
          ]
        }
      ]
    },
    {
      "cell_type": "code",
      "source": [
        "#lab 11-7\n",
        "\n",
        "#1\n",
        "\n",
        "a = np.arange(1,11)\n",
        "print('a =',a)\n",
        "b = a[1:9:2]\n",
        "print('b =',b)\n",
        "\n",
        "#2\n",
        "\n",
        "b = a[5::]\n",
        "print('b =',b)\n",
        "c = a[6::]\n",
        "print('c =',c)\n",
        "d = a[:3:]\n",
        "print('d =',d)\n",
        "e = a[::2]\n",
        "print('e =',e)\n",
        "f = a[::-2]\n",
        "print('f =',f)\n"
      ],
      "metadata": {
        "colab": {
          "base_uri": "https://localhost:8080/"
        },
        "id": "82LzeWPwdqot",
        "outputId": "91030408-0d7f-4d85-ccfb-6114635f779d"
      },
      "execution_count": null,
      "outputs": [
        {
          "output_type": "stream",
          "name": "stdout",
          "text": [
            "a = [ 1  2  3  4  5  6  7  8  9 10]\n",
            "b = [2 4 6 8]\n",
            "b = [ 6  7  8  9 10]\n",
            "c = [ 7  8  9 10]\n",
            "d = [1 2 3]\n",
            "e = [1 3 5 7 9]\n",
            "f = [10  8  6  4  2]\n"
          ]
        }
      ]
    },
    {
      "cell_type": "code",
      "source": [
        "#lab 11-8\n",
        "#1\n",
        "\n",
        "a = np.arange(0,24).reshape(4,3,2)\n",
        "\n",
        "print(a)\n",
        "\n",
        "# 1번은 잘 이해가 가지 않습니다\n",
        "\n",
        "\n",
        "\n",
        "#2\n",
        "\n",
        "#2-1\n",
        "print(np.concatenate((a[0,0],a[1,0]),axis = 0))\n",
        "\n",
        "#2-2\n",
        "print(np.concatenate((a[0,0],a[2,1]),axis = 0))\n",
        "\n",
        "#2-3\n",
        "print(np.concatenate((a[0,0],a[0,1],a[0,2],a[1,0],a[1,1],a[1,2]),axis = 0).reshape(6,2))\n",
        "\n",
        "#2-4\n",
        "print(np.concatenate((a[0,0],a[1,0],a[0,1],a[1,1],a[0,2],a[1,2]),axis = 0).reshape(3,4))\n",
        "\n"
      ],
      "metadata": {
        "colab": {
          "base_uri": "https://localhost:8080/"
        },
        "id": "VqUdcmAViO3n",
        "outputId": "f095fe02-b499-4269-be4c-e445c6695834"
      },
      "execution_count": null,
      "outputs": [
        {
          "output_type": "stream",
          "name": "stdout",
          "text": [
            "[[[ 0  1]\n",
            "  [ 2  3]\n",
            "  [ 4  5]]\n",
            "\n",
            " [[ 6  7]\n",
            "  [ 8  9]\n",
            "  [10 11]]\n",
            "\n",
            " [[12 13]\n",
            "  [14 15]\n",
            "  [16 17]]\n",
            "\n",
            " [[18 19]\n",
            "  [20 21]\n",
            "  [22 23]]]\n",
            "[0 1 6 7]\n",
            "[ 0  1 14 15]\n",
            "[[ 0  1]\n",
            " [ 2  3]\n",
            " [ 4  5]\n",
            " [ 6  7]\n",
            " [ 8  9]\n",
            " [10 11]]\n",
            "[[ 0  1  6  7]\n",
            " [ 2  3  8  9]\n",
            " [ 4  5 10 11]]\n"
          ]
        }
      ]
    },
    {
      "cell_type": "code",
      "source": [
        "#lab 11-9\n",
        "#1\n",
        "a = np.arange(0,16).reshape(4,4)\n",
        "\n",
        "print('a =',a)\n",
        "\n",
        "b = a[0:4,1]\n",
        "\n",
        "print('b =',b )\n",
        "\n",
        "c = a[2,1:4]\n",
        "print('c =',c)\n",
        "\n",
        "d = a[:2,:2]\n",
        "print('d =',d)\n",
        "\n",
        "e = a[1:3,1:3]\n",
        "print('e =',e)\n",
        "\n",
        "#2\n",
        "\n",
        "\n",
        "a = a1.reshape(16,1)\n",
        "f = a1[0,0:7]\n",
        "\n",
        "print('f =',f)\n",
        "\n",
        "g = a1[0,8:16]\n",
        "\n",
        "print('g =',g)\n",
        "\n",
        "h = np.append(a1[0,5:8], a1[0,13:16])\n",
        "print('h =',h)"
      ],
      "metadata": {
        "colab": {
          "base_uri": "https://localhost:8080/"
        },
        "id": "Dz4gNNpkkCNP",
        "outputId": "d340e07c-5a7f-425b-aea1-8f583d436ee4"
      },
      "execution_count": null,
      "outputs": [
        {
          "output_type": "stream",
          "name": "stdout",
          "text": [
            "a = [[ 0  1  2  3]\n",
            " [ 4  5  6  7]\n",
            " [ 8  9 10 11]\n",
            " [12 13 14 15]]\n",
            "b = [ 1  5  9 13]\n",
            "c = [ 9 10 11]\n",
            "d = [[0 1]\n",
            " [4 5]]\n",
            "e = [[ 5  6]\n",
            " [ 9 10]]\n",
            "f = [0 1 2 3 4 5 6]\n",
            "g = [ 8  9 10 11 12 13 14 15]\n",
            "h = [ 5  6  7 13 14 15]\n"
          ]
        }
      ]
    },
    {
      "cell_type": "code",
      "source": [
        "a = np.array([1,2,3])\n",
        "#print(a)\n",
        "#a.shape\n",
        "#a.dtype\n",
        "a"
      ],
      "metadata": {
        "colab": {
          "base_uri": "https://localhost:8080/"
        },
        "id": "5LeHn0gHGP_q",
        "outputId": "8edd53d2-6688-4666-b866-a63e31571185"
      },
      "execution_count": null,
      "outputs": [
        {
          "output_type": "execute_result",
          "data": {
            "text/plain": [
              "array([1, 2, 3])"
            ]
          },
          "metadata": {},
          "execution_count": 5
        }
      ]
    },
    {
      "cell_type": "code",
      "source": [],
      "metadata": {
        "id": "pjRjm-pSGRVS"
      },
      "execution_count": null,
      "outputs": []
    },
    {
      "cell_type": "code",
      "source": [],
      "metadata": {
        "id": "8hciQmzaGRzS"
      },
      "execution_count": null,
      "outputs": []
    }
  ]
}